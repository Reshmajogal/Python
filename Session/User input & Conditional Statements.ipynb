{
 "cells": [
  {
   "cell_type": "markdown",
   "id": "7d763752",
   "metadata": {},
   "source": [
    "# User Input"
   ]
  },
  {
   "cell_type": "code",
   "execution_count": 1,
   "id": "5c42efb2",
   "metadata": {},
   "outputs": [
    {
     "name": "stdout",
     "output_type": "stream",
     "text": [
      "10\n"
     ]
    },
    {
     "data": {
      "text/plain": [
       "'10'"
      ]
     },
     "execution_count": 1,
     "metadata": {},
     "output_type": "execute_result"
    }
   ],
   "source": [
    "input()      ### This function by default change the type into string"
   ]
  },
  {
   "cell_type": "code",
   "execution_count": 2,
   "id": "f5410010",
   "metadata": {},
   "outputs": [
    {
     "name": "stdout",
     "output_type": "stream",
     "text": [
      "Enter your age: 14\n"
     ]
    }
   ],
   "source": [
    "age=input(\"Enter your age: \")\n",
    "age=int(age)"
   ]
  },
  {
   "cell_type": "code",
   "execution_count": 4,
   "id": "fdfab8ad",
   "metadata": {},
   "outputs": [
    {
     "data": {
      "text/plain": [
       "int"
      ]
     },
     "execution_count": 4,
     "metadata": {},
     "output_type": "execute_result"
    }
   ],
   "source": [
    "type(age)"
   ]
  },
  {
   "cell_type": "code",
   "execution_count": 5,
   "id": "34cbb275",
   "metadata": {},
   "outputs": [
    {
     "name": "stdout",
     "output_type": "stream",
     "text": [
      "Enter number: 34\n"
     ]
    }
   ],
   "source": [
    "a=input(\"Enter number: \")\n"
   ]
  },
  {
   "cell_type": "code",
   "execution_count": 6,
   "id": "ceef964f",
   "metadata": {},
   "outputs": [
    {
     "data": {
      "text/plain": [
       "str"
      ]
     },
     "execution_count": 6,
     "metadata": {},
     "output_type": "execute_result"
    }
   ],
   "source": [
    "type(a)i"
   ]
  },
  {
   "cell_type": "code",
   "execution_count": 7,
   "id": "0134b9cd",
   "metadata": {},
   "outputs": [],
   "source": [
    "number=int(a)"
   ]
  },
  {
   "cell_type": "code",
   "execution_count": 8,
   "id": "07b53669",
   "metadata": {},
   "outputs": [
    {
     "data": {
      "text/plain": [
       "int"
      ]
     },
     "execution_count": 8,
     "metadata": {},
     "output_type": "execute_result"
    }
   ],
   "source": [
    "type(number)"
   ]
  },
  {
   "cell_type": "code",
   "execution_count": 9,
   "id": "340b3191",
   "metadata": {},
   "outputs": [
    {
     "name": "stdout",
     "output_type": "stream",
     "text": [
      "Enter number:23\n"
     ]
    },
    {
     "data": {
      "text/plain": [
       "int"
      ]
     },
     "execution_count": 9,
     "metadata": {},
     "output_type": "execute_result"
    }
   ],
   "source": [
    "number=int(input(\"Enter number:\"))\n",
    "type(number)"
   ]
  },
  {
   "cell_type": "markdown",
   "id": "e237cc97",
   "metadata": {},
   "source": [
    "# Conditional Statements"
   ]
  },
  {
   "cell_type": "markdown",
   "id": "342ca5fa",
   "metadata": {},
   "source": [
    "if\n",
    "else\n",
    "elif\n",
    "\n",
    "\n"
   ]
  },
  {
   "cell_type": "markdown",
   "id": "e4452851",
   "metadata": {},
   "source": [
    "if"
   ]
  },
  {
   "cell_type": "code",
   "execution_count": 11,
   "id": "539435f1",
   "metadata": {},
   "outputs": [],
   "source": [
    "## Check Whethere the player is virat koholi\n",
    " \n",
    "    "
   ]
  },
  {
   "cell_type": "code",
   "execution_count": 19,
   "id": "8cfb2d08",
   "metadata": {},
   "outputs": [
    {
     "name": "stdout",
     "output_type": "stream",
     "text": [
      "Enter name: Virat\n",
      "Success\n"
     ]
    }
   ],
   "source": [
    "Player=input(\"Enter name: \")\n",
    "\n",
    "if Player ==\"Virat\":\n",
    "    print(\"Success\")"
   ]
  },
  {
   "cell_type": "code",
   "execution_count": 20,
   "id": "56dcb01c",
   "metadata": {},
   "outputs": [],
   "source": [
    "## Check the number is positive/negetive "
   ]
  },
  {
   "cell_type": "code",
   "execution_count": 24,
   "id": "f9978cdd",
   "metadata": {},
   "outputs": [
    {
     "name": "stdout",
     "output_type": "stream",
     "text": [
      "Enter number: 56\n",
      "The number is positive\n"
     ]
    }
   ],
   "source": [
    "a=input(\"Enter number: \")\n",
    "number=int(a)\n",
    "if number<0 :\n",
    "    print(\"The number is negetive\")\n",
    "else:\n",
    "    print(\"The number is positive\")"
   ]
  },
  {
   "cell_type": "code",
   "execution_count": 25,
   "id": "aaeca180",
   "metadata": {},
   "outputs": [],
   "source": [
    "## Check whether number is even or odd"
   ]
  },
  {
   "cell_type": "code",
   "execution_count": 28,
   "id": "ab35bdb9",
   "metadata": {},
   "outputs": [
    {
     "name": "stdout",
     "output_type": "stream",
     "text": [
      "Enter the number: 4\n",
      "The number is even\n"
     ]
    }
   ],
   "source": [
    "number= int(input(\"Enter the number: \"))\n",
    "if number%2==0:\n",
    "    print(\"The number is even\")\n",
    "else:\n",
    "    print(\"The number is odd\")"
   ]
  },
  {
   "cell_type": "code",
   "execution_count": 29,
   "id": "2b66d0d5",
   "metadata": {},
   "outputs": [],
   "source": [
    "## Write the python programe which will tell whether the person is eligible for vote or not "
   ]
  },
  {
   "cell_type": "code",
   "execution_count": 32,
   "id": "52fa9d9a",
   "metadata": {},
   "outputs": [
    {
     "name": "stdout",
     "output_type": "stream",
     "text": [
      "enter the age:18\n",
      "Eiligible for vote \n"
     ]
    }
   ],
   "source": [
    "age=int(input(\"enter the age:\"))\n",
    "if age>=18:\n",
    "    print(\"Eiligible for vote \")\n",
    "else:\n",
    "    print(\"Not eiligible for vote\")\n",
    "        \n",
    "    "
   ]
  },
  {
   "cell_type": "code",
   "execution_count": 37,
   "id": "332f31ca",
   "metadata": {},
   "outputs": [
    {
     "name": "stdout",
     "output_type": "stream",
     "text": [
      "enter the age:10\n",
      "You need to wait for more 8 years\n"
     ]
    }
   ],
   "source": [
    "age=int(input(\"enter the age:\"))\n",
    "if age>=18:\n",
    "    print(\"You are eiligible for vote \")\n",
    "else:\n",
    "    print(\"You need to wait for more\",18-age,\"years\")\n",
    "        "
   ]
  },
  {
   "cell_type": "code",
   "execution_count": 33,
   "id": "8a8d24a3",
   "metadata": {},
   "outputs": [],
   "source": [
    "## Check the number is positive/negetive/zero"
   ]
  },
  {
   "cell_type": "code",
   "execution_count": 41,
   "id": "bf9a5469",
   "metadata": {},
   "outputs": [
    {
     "name": "stdout",
     "output_type": "stream",
     "text": [
      "Enter number:0\n",
      "The number is zero\n"
     ]
    }
   ],
   "source": [
    "number=int(input(\"Enter number:\"))\n",
    "if number==0:\n",
    "    print(\"The number is zero\")\n",
    "elif number>0:\n",
    "    print(\"The number is positive\")\n",
    "else:\n",
    "    print(\"The number is negetive\")"
   ]
  },
  {
   "cell_type": "code",
   "execution_count": 42,
   "id": "b7a90a8f",
   "metadata": {},
   "outputs": [],
   "source": [
    "#Give the grades based on percentage\n",
    "#A:marks>85\n",
    "#B:marks >70 and <85\n",
    "#C:mareks >60 and <70\n",
    "#D\n",
    "\n"
   ]
  },
  {
   "cell_type": "code",
   "execution_count": 46,
   "id": "16b63a17",
   "metadata": {},
   "outputs": [
    {
     "name": "stdout",
     "output_type": "stream",
     "text": [
      "Enter your marks:89\n",
      "Grade is A\n"
     ]
    }
   ],
   "source": [
    "number=int(input(\"Enter your marks:\"))\n",
    "if number>=85:\n",
    "    print(\"Grade is A\")\n",
    "elif number>=70:\n",
    "    print(\"Grade is B\")\n",
    "elif number>=60:\n",
    "    print(\"Grade is C\")\n",
    "else:\n",
    "    print(\"Grade is D\")"
   ]
  },
  {
   "cell_type": "code",
   "execution_count": 47,
   "id": "71667dc5",
   "metadata": {},
   "outputs": [],
   "source": [
    "## Same thing can be done in following way "
   ]
  },
  {
   "cell_type": "code",
   "execution_count": 49,
   "id": "9020e8a5",
   "metadata": {},
   "outputs": [
    {
     "name": "stdout",
     "output_type": "stream",
     "text": [
      "Enter your marks:68\n",
      "Grade is C\n"
     ]
    }
   ],
   "source": [
    "number=int(input(\"Enter your marks:\"))\n",
    "if number>=85:\n",
    "    print(\"Grade is A\")\n",
    "elif (number<85) and (number>=70):\n",
    "    print(\"Grade is B\")\n",
    "elif (number<70) and  (number>=60):\n",
    "    print(\"Grade is C\")\n",
    "else:\n",
    "    print(\"Grade is D\")"
   ]
  },
  {
   "cell_type": "markdown",
   "id": "451e58d0",
   "metadata": {},
   "source": [
    "# Class Exercise"
   ]
  },
  {
   "cell_type": "code",
   "execution_count": 50,
   "id": "de39875e",
   "metadata": {},
   "outputs": [],
   "source": [
    "# 1 Write a programme which will print Centurey if the player has made more tha 100 runs \n",
    "#else it should write how many more runs he need to have complete the century\n",
    "# 2. write a programme to check the number is one digited, two digited or three digited\n",
    "# 3. write the programme to check whether user has entered the number 99 or not "
   ]
  },
  {
   "cell_type": "code",
   "execution_count": 52,
   "id": "71fe8a19",
   "metadata": {},
   "outputs": [
    {
     "name": "stdout",
     "output_type": "stream",
     "text": [
      "Enter the runs: 80\n",
      "You need more 20 runs to complete the century\n"
     ]
    }
   ],
   "source": [
    "## Q.1\n",
    "run=int(input(\"Enter the runs: \"))\n",
    "if run>=100:\n",
    "    print(\"Century\")\n",
    "else:\n",
    "    print(\"You need more\",100-run,\"runs to complete the century\" )"
   ]
  },
  {
   "cell_type": "code",
   "execution_count": 57,
   "id": "b23639c6",
   "metadata": {},
   "outputs": [
    {
     "name": "stdout",
     "output_type": "stream",
     "text": [
      "Enter number:-2\n",
      "one digit number\n"
     ]
    }
   ],
   "source": [
    "##Q.2\n",
    "number=int(input(\"Enter number:\"))\n",
    "if number<=9:\n",
    "    print(\"one digit number\")\n",
    "elif (number>9) and (number<=99):\n",
    "    print(\"two digit number\")\n",
    "elif (number>99)and (number<=999):\n",
    "    print('Three digit number')"
   ]
  },
  {
   "cell_type": "code",
   "execution_count": 59,
   "id": "5a1d2943",
   "metadata": {},
   "outputs": [
    {
     "name": "stdout",
     "output_type": "stream",
     "text": [
      "Enter number:99\n",
      "Yes\n"
     ]
    }
   ],
   "source": [
    "# Q.3\n",
    "a=int(input(\"Enter number:\"))\n",
    "if a==99:\n",
    "    print(\"Yes\")\n",
    "else:\n",
    "    print(\"No\")"
   ]
  },
  {
   "cell_type": "code",
   "execution_count": null,
   "id": "8bd2e8cd",
   "metadata": {},
   "outputs": [],
   "source": []
  }
 ],
 "metadata": {
  "kernelspec": {
   "display_name": "Python 3 (ipykernel)",
   "language": "python",
   "name": "python3"
  },
  "language_info": {
   "codemirror_mode": {
    "name": "ipython",
    "version": 3
   },
   "file_extension": ".py",
   "mimetype": "text/x-python",
   "name": "python",
   "nbconvert_exporter": "python",
   "pygments_lexer": "ipython3",
   "version": "3.9.13"
  }
 },
 "nbformat": 4,
 "nbformat_minor": 5
}
